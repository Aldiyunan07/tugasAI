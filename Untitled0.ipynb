{
  "nbformat": 4,
  "nbformat_minor": 0,
  "metadata": {
    "colab": {
      "provenance": []
    },
    "kernelspec": {
      "name": "python3",
      "display_name": "Python 3"
    },
    "language_info": {
      "name": "python"
    }
  },
  "cells": [
    {
      "cell_type": "markdown",
      "source": [
        "<b> Nama : Aldi Yunan Anwari <br/>\n",
        "NIM  : 2106006 </b>"
      ],
      "metadata": {
        "id": "H9e6bqsVXp3z"
      }
    },
    {
      "cell_type": "markdown",
      "source": [
        "**#1 Breadth First Search**"
      ],
      "metadata": {
        "id": "GVdXvP-WMzat"
      }
    },
    {
      "cell_type": "code",
      "source": [
        "def bfs(graph, source):\n",
        "  visited = set() #Variabel yang bersifat not redudance\n",
        "  bfs_traversal = list() #Variabel yang bisa di ubah ubah \n",
        "  queue = list()\n",
        "\n",
        "  #Masukkan root node ke antrian dan tandai node tersebut sudah dikunjungi \n",
        "  queue.append(source) #Input an untuk memasukan data ke dalam array\n",
        "  visited.add(source) #Sama aja cuman gabisa di duplikat input\n",
        "\n",
        "  #Lakukan perulangan hingga antrian kosong\n",
        "  while queue: \n",
        "    # Keluarkan node dari depan antrian dan masukkan ke dalam bfs_traversal\n",
        "    current_node = queue.pop(0) #Mengeluarkan data dari array\n",
        "    bfs_traversal.append(current_node) #Memasukkan data ke array\n",
        "\n",
        "    #Lakukan pengecekan semua node terdekat dari current node\n",
        "    for neighbour_node in graph[current_node]: # Perulangan sebanyak n \n",
        "      #Jika node tetangga belum, dikunjungi, Masukkan ke dalam antrian\n",
        "      if neighbour_node not in visited: #apakah neighbour ada di dalam visited ?\n",
        "        visited.add(neighbour_node) #tambahkan neighbour ke dalam variabel visited\n",
        "        queue.append(neighbour_node) #masukkan ke dalam array queue\n",
        "  return bfs_traversal\n",
        "\n",
        "def main():\n",
        "  graph = {\n",
        "      'A' : ['B','C'],\n",
        "      'B' : ['A','D','E'],\n",
        "      'C' : ['A','F','G'],\n",
        "      'D' : ['B'],\n",
        "      'E' : ['B'],\n",
        "      'F' : ['C'],\n",
        "      'G' : ['C']\n",
        "  } \n",
        "\n",
        "  bfs_traversal = bfs(graph, 'A')\n",
        "  print(f\"BFS : {bfs_traversal}\")\n",
        "\n",
        "if __name__=='__main__':\n",
        "      main()"
      ],
      "metadata": {
        "colab": {
          "base_uri": "https://localhost:8080/"
        },
        "id": "JNM83sy0X93y",
        "outputId": "0247c03c-6308-4645-eb3c-8301639d9e86"
      },
      "execution_count": null,
      "outputs": [
        {
          "output_type": "stream",
          "name": "stdout",
          "text": [
            "BFS : ['A', 'B', 'C', 'D', 'E', 'F', 'G']\n"
          ]
        }
      ]
    },
    {
      "cell_type": "markdown",
      "source": [
        "**#2 Depth First Search**"
      ],
      "metadata": {
        "id": "qfCjigEGM6kD"
      }
    },
    {
      "cell_type": "code",
      "source": [
        "\n",
        "def dfs(graph, source, visited, dfs_traversal):\n",
        "  if source not in visited:\n",
        "    dfs_traversal.append(source) #Rekursif Function = Fungsi yang memanggil fungsi nya sendiri\n",
        "    visited.add(source)\n",
        "    for neighbour_node in graph[source]:\n",
        "      dfs(graph, neighbour_node, visited, dfs_traversal)\n",
        "  return dfs_traversal\n",
        "\n",
        "def main():\n",
        "  visited = set()\n",
        "  dfs_traversal = list()\n",
        "\n",
        "  graph = {\n",
        "      'A' : ['B','C'],\n",
        "      'B' : ['D','E'],\n",
        "      'C' : ['F','G'],\n",
        "      'D' : [],\n",
        "      'E' : [],\n",
        "      'F' : [],\n",
        "      'G' : []\n",
        "  } \n",
        "\n",
        "  print(f\"DFS: {dfs(graph, 'A', visited, dfs_traversal)}\")\n",
        "\n",
        "if __name__=='__main__':\n",
        "      main()"
      ],
      "metadata": {
        "colab": {
          "base_uri": "https://localhost:8080/"
        },
        "id": "XSZyUPI1YWqj",
        "outputId": "5d351dc1-b22e-459c-8108-cd8f36d98ba5"
      },
      "execution_count": null,
      "outputs": [
        {
          "output_type": "stream",
          "name": "stdout",
          "text": [
            "DFS: ['A', 'B', 'D', 'E', 'C', 'F', 'G']\n"
          ]
        }
      ]
    },
    {
      "cell_type": "markdown",
      "source": [
        "**#3 Uniform Cost Search**"
      ],
      "metadata": {
        "id": "SQV23nDkNADF"
      }
    },
    {
      "cell_type": "code",
      "source": [
        "def uniform_cost_search(goal, start):\n",
        "  global graph, cost\n",
        "  answer = []\n",
        "  queue = []\n",
        "  for i in range(len(goal)):\n",
        "    answer.append(10**8)\n",
        "  queue.append([0, start])\n",
        "  visited = {}\n",
        "  count = 0\n",
        "  while (len(queue) > 0):\n",
        "    queue = sorted(queue)\n",
        "    p = queue[-1]\n",
        "    del queue[-1]\n",
        "    p[0] *= -1\n",
        "    if(p[1] in goal):\n",
        "      index = goal.index(p[1])\n",
        "      if(answer[index] == 10**8):\n",
        "        count += 1\n",
        "      if(answer[index] > p[0]):\n",
        "        answer[index] = p[0]\n",
        "      del queue[-1]\n",
        "      queue = sorted(queue)\n",
        "      if(count == len(goal)):\n",
        "        return answer\n",
        "    if(p[1]not in visited):\n",
        "      for i in range(len(graph[p[1]])):\n",
        "        queue.append([(p[0] + cost[(p[1], graph[p[1]][i])])* -1, graph[p[1]][i]])\n",
        "    visited[p[1]] = 1\n",
        "  return answer\n",
        "if __name__ == '__main__':\n",
        "  graph, cost = [[] for i in range(8)], {}\n",
        "  graph[0].append(1)\n",
        "  graph[0].append(3)\n",
        "  graph[3].append(1)\n",
        "  graph[3].append(6)\n",
        "  graph[3].append(4)\n",
        "  graph[1].append(6)\n",
        "  graph[4].append(2)\n",
        "  graph[4].append(5)\n",
        "  graph[2].append(1)\n",
        "  graph[5].append(2)\n",
        "  graph[5].append(6)\n",
        "  graph[6].append(4)\n",
        "\n",
        "  cost[(0, 1)] = 2\n",
        "  cost[(0, 3)] = 5\n",
        "  cost[(1, 6)] = 1\n",
        "  cost[(3, 1)] = 5\n",
        "  cost[(3, 6)] = 6\n",
        "  cost[(3, 4)] = 2\n",
        "  cost[(2, 1)] = 4\n",
        "  cost[(4, 2)] = 4\n",
        "  cost[(4, 5)] = 3\n",
        "  cost[(5, 2)] = 6\n",
        "  cost[(5, 6)] = 3\n",
        "  cost[(6, 4)] = 7\n",
        "\n",
        "  goal = []\n",
        "  goal.append(6)\n",
        "  answer = uniform_cost_search(goal, 0)\n",
        "  print(\"Minimum cost from 0 to 6 is = \", answer[0])"
      ],
      "metadata": {
        "colab": {
          "base_uri": "https://localhost:8080/"
        },
        "id": "ZUDkDLGzYbnY",
        "outputId": "25693358-42f8-4f52-dbbf-5c5c7b279d07"
      },
      "execution_count": null,
      "outputs": [
        {
          "output_type": "stream",
          "name": "stdout",
          "text": [
            "Minimum cost from 0 to 6 is =  3\n"
          ]
        }
      ]
    },
    {
      "cell_type": "markdown",
      "source": [
        "**#4 Iterative Deepening Depth First Search**"
      ],
      "metadata": {
        "id": "yEC5GsJUNIr9"
      }
    },
    {
      "cell_type": "code",
      "source": [
        "from collections import defaultdict\n",
        "class Graph:\n",
        "  def __init__(self, vertices):\n",
        "    self.v = vertices\n",
        "    self.graph = defaultdict(list)\n",
        "  def addEdge(self,u,v):\n",
        "    self.graph[u].append(v)\n",
        "  def DLS(self, src, target, maxDepth):\n",
        "    if src == target : return True\n",
        "    if maxDepth <= 0 : return False\n",
        "    for i in self.graph[src]:\n",
        "      if(self.DLS(i, target, maxDepth-1)):\n",
        "        return True\n",
        "    return False\n",
        "  def IDDFS(self, src, target, maxDepth):\n",
        "    for i in range(maxDepth):\n",
        "      if(self.DLS(src, target, i)):\n",
        "        return True\n",
        "    return False\n",
        "g = Graph (7);\n",
        "g.addEdge(0,1)\n",
        "g.addEdge(0,2)\n",
        "g.addEdge(0,4)\n",
        "g.addEdge(1,3)\n",
        "g.addEdge(1,5)\n",
        "g.addEdge(2,6)\n",
        "\n",
        "target = 6; maxDepth = 3; src = 0\n",
        "if g.IDDFS(src, target, maxDepth) == True:\n",
        "  print(\"Target is reachable from source \" +\n",
        "        \"Within ax depth\")\n",
        "else :\n",
        "  print(\"Target is not reachable from source \" +\n",
        "        \"Within max depth\")\n",
        "\n",
        "\n"
      ],
      "metadata": {
        "colab": {
          "base_uri": "https://localhost:8080/"
        },
        "id": "vkc1svdfet7B",
        "outputId": "e38d9154-21f3-4193-f2fb-af823cce9b3d"
      },
      "execution_count": null,
      "outputs": [
        {
          "output_type": "stream",
          "name": "stdout",
          "text": [
            "Target is reachable from source Within ax depth\n"
          ]
        }
      ]
    },
    {
      "cell_type": "markdown",
      "source": [
        "**#5 Bidirectional Search**"
      ],
      "metadata": {
        "id": "uiVglkLbNP_J"
      }
    },
    {
      "cell_type": "code",
      "source": [
        "class AdjacentNode:\n",
        "  def __init__(self, vertex):\n",
        "    self.vertex = vertex\n",
        "    self.next = None\n",
        "class BidirectionalSearch:\n",
        "    def __init__(self, vertices):\n",
        "      self.vertices = vertices\n",
        "      self.graph = [None] * self.vertices\n",
        "      self.src_queue = list()\n",
        "      self.dest_queue= list()\n",
        "      self.src_visited = [False] * self.vertices\n",
        "      self.dest_visited = [False] * self.vertices\n",
        "      self.src_parent = [None] * self.vertices\n",
        "      self.dest_parent = [None] * self.vertice\n",
        "    def add_edge(self, src, dest):\n",
        "      node = AdjacentNode(dest)\n",
        "      node.next = self.graph[src]\n",
        "      self.graph[src] = node\n",
        "      node = AdjacentNode(src)\n",
        "      node.next = self.graph[dest]\n",
        "      self.graph[dest] = node\n",
        "    def bfs(self, direction = 'forward'):\n",
        "      if direction == 'forward':\n",
        "        current = self.src_queue.pop(0)\n",
        "        connected_node = self.graph[current]\n",
        "        while connected_node: \n",
        "          vertex = connected_node.vertex\n",
        "          if not self.src_visited[vertex]:\n",
        "            self.src_queue.append(vertex)\n",
        "            self.src_visited[vertex] = True\n",
        "            self.src_parent[vertex] = current\n",
        "          connected_node = connected_node.next\n",
        "      else:\n",
        "        current = self.dest_queue.pop(0)\n",
        "        connected_node = self.graph[current]\n",
        "        while connected_node:\n",
        "          vertex = connected_node.vertex\n",
        "          if not self.dest_visited[vertex]:\n",
        "            self.dest_queue.append(vertex)\n",
        "            self.dest_visited[vertex] = True\n",
        "            self.dest_parent[vertex] = current\n",
        "          connected_node = connected_node.next\n",
        "    def is_intersecting(self):\n",
        "      for i in range(self.vertices):\n",
        "        if(self.src_visited[i] and\n",
        "          self.dest_visited[i]):\n",
        "          return i\n",
        "      return -1\n",
        "    def print_path(self, intersecting_node,\n",
        "                  src, dest):\n",
        "      path = list()\n",
        "      path.append(intersecting_node)\n",
        "      i - intersecting_node\n",
        "      while i != src:\n",
        "        path.append(self.src_parent[i])\n",
        "        i = self.src_parent[i]\n",
        "      path = path[::-1]\n",
        "      i = intersecting_node\n",
        "      while i != dest:\n",
        "        path.append(self.dest_parent[i])\n",
        "        i = self.dest_parent[i]\n",
        "      print(\"*****Path*****\")\n",
        "      path = list(map(str, path))\n",
        "      print(' '.join(path))\n",
        "    def bidirectional_search(self, src, dest):\n",
        "      self.src_queue.append(src)\n",
        "      self.src_visited[src] = True\n",
        "      self.src_parent[src] = -1\n",
        "\n",
        "      self.dest_queue.append(dest)\n",
        "      self.dest_visited[dest] = True\n",
        "      self.dest_parent[dest] = -1\n",
        "\n",
        "      while self.src_queue and self.dest_queue:\n",
        "        self.bfs(direction = 'forward')\n",
        "      self.bfs(direction = 'backward')\n",
        "      intersecting_node = self.is_intersecting()\n",
        "      if intersecting_node != -1:\n",
        "        print(f\"Path exist between {src} and {dest}\")\n",
        "        print(f\"Intersection at : {intersecting_node}\")\n",
        "        self.print_path(intersecting_node,\n",
        "                        src, dest)\n",
        "        exit(0)\n",
        "    return -1\n",
        "  if __name__=='__main__':\n",
        "n = 15\n",
        "src = 0\n",
        "dest = 6\n",
        "\n",
        "    graph = BidirectionalSearch(n)\n",
        "    graph.add_edge(0, 4)\n",
        "    graph.add_edge(1, 4)\n",
        "    graph.add_edge(2, 5)\n",
        "    graph.add_edge(3, 5)\n",
        "    graph.add_edge(4, 6)\n",
        "    graph.add_edge(5, 6)\n",
        "    graph.add_edge(6, 7)\n",
        "    graph.add_edge(7, 8)\n",
        "    graph.add_edge(8, 9)\n",
        "    graph.add_edge(8, 10)\n",
        "    graph.add_edge(9, 11)\n",
        "    graph.add_edge(9, 12)\n",
        "    graph.add_edge(10, 13)\n",
        "    graph.add_edge(10, 14)\n",
        "    out = graph.bidirectional_search(src, dest)\n",
        "    if out == -1:\n",
        "      print(f\"Path does not exist between {src} and {dest}\")     "
      ],
      "metadata": {
        "id": "gON1up9-hYrN",
        "colab": {
          "base_uri": "https://localhost:8080/",
          "height": 130
        },
        "outputId": "5df7c30c-d11f-4aec-e832-4f056ec0de4e"
      },
      "execution_count": 20,
      "outputs": [
        {
          "output_type": "error",
          "ename": "IndentationError",
          "evalue": "ignored",
          "traceback": [
            "\u001b[0;36m  File \u001b[0;32m\"<tokenize>\"\u001b[0;36m, line \u001b[0;32m85\u001b[0m\n\u001b[0;31m    if __name__=='__main__':\u001b[0m\n\u001b[0m    ^\u001b[0m\n\u001b[0;31mIndentationError\u001b[0m\u001b[0;31m:\u001b[0m unindent does not match any outer indentation level\n"
          ]
        }
      ]
    }
  ]
}